{
  "nbformat": 4,
  "nbformat_minor": 0,
  "metadata": {
    "colab": {
      "provenance": [],
      "authorship_tag": "ABX9TyMLo3reOPozko/3Lix1k9U8",
      "include_colab_link": true
    },
    "kernelspec": {
      "name": "python3",
      "display_name": "Python 3"
    },
    "language_info": {
      "name": "python"
    }
  },
  "cells": [
    {
      "cell_type": "markdown",
      "metadata": {
        "id": "view-in-github",
        "colab_type": "text"
      },
      "source": [
        "<a href=\"https://colab.research.google.com/github/Wizzy-H/AI-assignment-EEE540/blob/main/assignment2.ipynb\" target=\"_parent\"><img src=\"https://colab.research.google.com/assets/colab-badge.svg\" alt=\"Open In Colab\"/></a>"
      ]
    },
    {
      "cell_type": "code",
      "execution_count": 1,
      "metadata": {
        "colab": {
          "base_uri": "https://localhost:8080/"
        },
        "id": "Nqx_SghvXQk5",
        "outputId": "7725ce82-6657-40b2-8d85-e34f9e9f1ee8"
      },
      "outputs": [
        {
          "output_type": "stream",
          "name": "stdout",
          "text": [
            "Softmax output: [0.22734376 0.1684204  0.14496078 0.15239308 0.30688198]\n",
            "ReLU output: [1.2  0.9  0.75 0.8  1.5 ]\n",
            "Bipolar sigmoid output: [0.53704957 0.42189901 0.3583574  0.37994896 0.63514895]\n"
          ]
        }
      ],
      "source": [
        "import numpy as np\n",
        "\n",
        "# Weighted sum of five neurons\n",
        "weighted_sum = np.array([1.2, 0.9, 0.75, 0.8, 1.5])\n",
        "\n",
        "# Softmax activation function\n",
        "def softmax(x):\n",
        "    return np.exp(x) / np.sum(np.exp(x))\n",
        "\n",
        "output_softmax = softmax(weighted_sum)\n",
        "print(\"Softmax output:\", output_softmax)\n",
        "\n",
        "# ReLU (Rectified Linear Unit) activation function\n",
        "def relu(x):\n",
        "    return np.maximum(x, 0)\n",
        "\n",
        "output_relu = relu(weighted_sum)\n",
        "print(\"ReLU output:\", output_relu)\n",
        "\n",
        "# Bipolar sigmoid activation function with t = 1\n",
        "def bipolar_sigmoid(x, t=1):\n",
        "    return (1 - np.exp(-t*x)) / (1 + np.exp(-t*x))\n",
        "\n",
        "output_bipolar_sigmoid = bipolar_sigmoid(weighted_sum)\n",
        "print(\"Bipolar sigmoid output:\", output_bipolar_sigmoid)\n"
      ]
    }
  ]
}